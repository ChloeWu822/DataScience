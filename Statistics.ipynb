{
 "cells": [
  {
   "cell_type": "markdown",
   "metadata": {},
   "source": [
    "## Statistics\n",
    "A study and practice of collecting and analysing data, include descriptive statistics and inferential statitics.\n",
    "\n",
    "### Descriptive Statistics\n",
    "Descriptive statistics focus on summarizing and describe dataset itself by numerical and graphical methods, without drawing decisions or making predictions for a population.\n",
    "\n",
    "#### Fundamental Concepts\n",
    "\n",
    "<div align=center><img src=\"pictures/datatype.png\"  width=\"70%\"></div>\n",
    "\n",
    "#### Measure of Central\n",
    "1. Mean - sum/size\n",
    "2. Median - middle value or avg of 2 middle values\n",
    "3. Mode - most frequent value, used to describe categorical data\n",
    "\n",
    "#### Measure of Spread\n",
    "1. Range (Min, Max)\n",
    "2. Variance - **mean((data - mean)^2)**\n",
    "    \n",
    "    For a population variance:\n",
    "    $$\n",
    "    \\sigma^2 = \\frac{\\sum (x_i - \\mu)^2}{N}\n",
    "    $$\n",
    "\n",
    "    For a sample variance:\n",
    "    $$\n",
    "    s^2 = \\frac{\\sum (x_i - \\bar{x})^2}{n - 1}\n",
    "    $$\n",
    "3. Standard Deviation - **sqrt(var)**, easier to understand since it's not square\n",
    "4. Mean Absolute Deviation - **mean(abs(data - mean))**\n",
    "    $$\n",
    "    \\text{MAD} = \\frac{1}{n} \\sum_{i=1}^{n} |x_i - \\bar{x}|\n",
    "    $$\n",
    "    - SD involves squared deviations, which gives more weight to larger deviations, so it's more sensitive to outliers.\n",
    "    - MAD involves absolute deviations, which penalizes each deviations equally, so it's more robust when the data is skewed or non-normal.\n",
    "    - MAD is more robust but SD is more commonly used, especially when assuming a normal distribution.\n",
    "  \n",
    "5. Quartiles, Quantiles, Interquartile Range(IQR)\n",
    "   - Quartiles split up the data into 4 equal parts.\n",
    "   - Quantiles or percentiles are a generalized version of quartile, e.g. split up the data into 5 or 10 pieces.\n",
    "   - IQR is the difference between Q1 (25% percentile) and Q3 (75% percentile).\n",
    "\n",
    "1. Outliers\n",
    "    - Data > Q3 + 1.5 * IQR\n",
    "    - Data < Q1 - 1.5 * IQR\n",
    "  \n",
    "<div align=center><img src=\"pictures/iqr.png\"  width=\"70%\"></div>\n",
    "\n",
    "#### Data Visualization\n",
    "| Variable      | Graphic |\n",
    "| ----------- | ----------- |\n",
    "| 1 Qualititave      | Barplot       |\n",
    "| 1 Quantitative   | Histogram or Boxplot        |\n",
    "| 2 Qualititave      | Clustered Barplot       |\n",
    "| 2 Quantitative   | Scatter Plot        |\n",
    "| 1 Quantitative + 1 Qualitative   | Double Boxplot        |"
   ]
  },
  {
   "cell_type": "code",
   "execution_count": 6,
   "metadata": {},
   "outputs": [
    {
     "name": "stdout",
     "output_type": "stream",
     "text": [
      "                           rownames survived     sex      age passengerClass\n",
      "0     Allen, Miss. Elisabeth Walton      yes  female  29.0000            1st\n",
      "1    Allison, Master. Hudson Trevor      yes    male   0.9167            1st\n",
      "2      Allison, Miss. Helen Loraine       no  female   2.0000            1st\n",
      "3   Allison, Mr. Hudson Joshua Crei       no    male  30.0000            1st\n",
      "4   Allison, Mrs. Hudson J C (Bessi       no  female  25.0000            1st\n",
      "5               Anderson, Mr. Harry      yes    male  48.0000            1st\n",
      "6   Andrews, Miss. Kornelia Theodos      yes  female  63.0000            1st\n",
      "7            Andrews, Mr. Thomas Jr       no    male  39.0000            1st\n",
      "8   Appleton, Mrs. Edward Dale (Cha      yes  female  53.0000            1st\n",
      "9           Artagaveytia, Mr. Ramon       no    male  71.0000            1st\n",
      "10           Astor, Col. John Jacob       no    male  47.0000            1st\n"
     ]
    }
   ],
   "source": [
    "import pandas as pd\n",
    "import numpy as np\n",
    "\n",
    "titanic = pd.read_csv('datasets/TitanicSurvival.csv')\n",
    "print(titanic[:11])\n"
   ]
  },
  {
   "cell_type": "code",
   "execution_count": 16,
   "metadata": {},
   "outputs": [
    {
     "data": {
      "text/plain": [
       "29.881134512434034"
      ]
     },
     "execution_count": 16,
     "metadata": {},
     "output_type": "execute_result"
    }
   ],
   "source": [
    "np.mean(titanic['age'])\n",
    "# np.nanmedian(titanic['age'])\n",
    "# titanic['age'].value_counts()\n",
    "# titanic['sex'].value_counts()"
   ]
  }
 ],
 "metadata": {
  "kernelspec": {
   "display_name": "Python 3",
   "language": "python",
   "name": "python3"
  },
  "language_info": {
   "codemirror_mode": {
    "name": "ipython",
    "version": 3
   },
   "file_extension": ".py",
   "mimetype": "text/x-python",
   "name": "python",
   "nbconvert_exporter": "python",
   "pygments_lexer": "ipython3",
   "version": "3.9.6"
  }
 },
 "nbformat": 4,
 "nbformat_minor": 2
}
