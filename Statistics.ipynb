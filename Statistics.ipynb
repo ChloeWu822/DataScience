{
 "cells": [
  {
   "cell_type": "markdown",
   "metadata": {},
   "source": [
    "## Statistics\n",
    "A study and practice of collecting and analysing data, include descriptive statistics and inferential statitics.\n",
    "\n",
    "### Descriptive Statistics\n",
    "Descriptive statistics focus on summarizing and describe dataset itself by numerical and graphical methods, without drawing decisions or making predictions for a population.\n",
    "\n",
    "#### Fundamental Concepts\n",
    "\n",
    "![alt](pictures/Types-of-Data-7-US.webp \"Types of Data\")\n",
    "\n",
    "#### Measure of Central\n",
    "1. Mean - sum/size\n",
    "2. Median - middle value or avg of 2 middle values\n",
    "3. Mode - most frequent value, used to describe categorical data\n",
    "\n",
    "#### Measure of Spread\n",
    "1. Range (Min, Max)\n",
    "2. Variance - **mean((data - mean)^2)**\n",
    "    \n",
    "    For a population variance:\n",
    "    $$\n",
    "    \\sigma^2 = \\frac{\\sum (x_i - \\mu)^2}{N}\n",
    "    $$\n",
    "\n",
    "    For a sample variance:\n",
    "    $$\n",
    "    s^2 = \\frac{\\sum (x_i - \\bar{x})^2}{n - 1}\n",
    "    $$\n",
    "3. Standard Deviation - **sqrt(var)**, easier to understand since it's not square\n",
    "4. Mean Absolute Deviation - **mean(abs(data - mean))**\n",
    "    $$\n",
    "    \\text{MAD} = \\frac{1}{n} \\sum_{i=1}^{n} |x_i - \\bar{x}|\n",
    "    $$\n",
    "    - SD involves squared deviations, which gives more weight to larger deviations, so it's more sensitive to outliers.\n",
    "    - MAD involves absolute deviations, which penalizes each deviations equally, so it's more robust when the data is skewed or non-normal.\n",
    "    - MAD is more robust but SD is more commonly used, especially when assuming a normal distribution.\n",
    "5. Quartiles, Quantiles, Interquartile Range(IQR)\n",
    "   - Quartiles split up the data into 4 equal parts.\n",
    "   - Quantiles or percentiles are a generalized version of quartile, e.g. split up the data into 5 or 10 pieces.\n",
    "   - IQR is the difference between Q1 (25% percentile) and Q3 (75% percentile).\n",
    "6. Outliers\n",
    "    - Data > Q3 + 1.5 * IQR\n",
    "    - Data < Q1 - 1.5 * IQR"
   ]
  },
  {
   "cell_type": "markdown",
   "metadata": {},
   "source": []
  },
  {
   "cell_type": "markdown",
   "metadata": {},
   "source": []
  },
  {
   "cell_type": "markdown",
   "metadata": {},
   "source": []
  },
  {
   "cell_type": "markdown",
   "metadata": {},
   "source": []
  },
  {
   "cell_type": "markdown",
   "metadata": {},
   "source": []
  },
  {
   "cell_type": "markdown",
   "metadata": {},
   "source": []
  }
 ],
 "metadata": {
  "kernelspec": {
   "display_name": "Python 3",
   "language": "python",
   "name": "python3"
  },
  "language_info": {
   "name": "python",
   "version": "3.9.6"
  }
 },
 "nbformat": 4,
 "nbformat_minor": 2
}
