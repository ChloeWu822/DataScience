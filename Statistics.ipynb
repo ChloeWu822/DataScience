{
 "cells": [
  {
   "cell_type": "markdown",
   "metadata": {},
   "source": [
    "## Statistics\n",
    "A study and practice of collecting and analysing data, include descriptive statistics and inferential statitics.\n",
    "\n",
    "### Descriptive Statistics\n",
    "Descriptive statistics focus on summarizing and describe dataset itself by numerical and graphical methods, without drawing decisions or making predictions for a population.\n",
    "\n",
    "#### Fundamental Concepts\n",
    "\n",
    "<div align=center><img src=\"pictures/datatype.png\"  width=\"70%\"></div>\n",
    "\n",
    "#### Measure of Central\n",
    "1. Mean - sum/size\n",
    "2. Median - middle value or avg of 2 middle values\n",
    "3. Mode - most frequent value, used to describe categorical data\n",
    "\n",
    "#### Measure of Spread\n",
    "1. Range (Min, Max)\n",
    "2. Variance - **mean((data - mean)^2)**\n",
    "    \n",
    "    For a population variance:\n",
    "    $$\n",
    "    \\sigma^2 = \\frac{\\sum (x_i - \\mu)^2}{N}\n",
    "    $$\n",
    "\n",
    "    For a sample variance:\n",
    "    $$\n",
    "    s^2 = \\frac{\\sum (x_i - \\bar{x})^2}{n - 1}\n",
    "    $$\n",
    "3. Standard Deviation - **sqrt(var)**, easier to understand since it's not square\n",
    "4. Mean Absolute Deviation - **mean(abs(data - mean))**\n",
    "    $$\n",
    "    \\text{MAD} = \\frac{1}{n} \\sum_{i=1}^{n} |x_i - \\bar{x}|\n",
    "    $$\n",
    "    - SD involves squared deviations, which gives more weight to larger deviations, so it's more sensitive to outliers.\n",
    "    - MAD involves absolute deviations, which penalizes each deviations equally, so it's more robust when the data is skewed or non-normal.\n",
    "    - MAD is more robust but SD is more commonly used, especially when assuming a normal distribution.\n",
    "  \n",
    "5. Quartiles, Quantiles, Interquartile Range(IQR)\n",
    "   - Quartiles split up the data into 4 equal parts.\n",
    "   - Quantiles or percentiles are a generalized version of quartile, e.g. split up the data into 5 or 10 pieces.\n",
    "   - IQR is the difference between Q1 (25% percentile) and Q3 (75% percentile).\n",
    "\n",
    "1. Outliers\n",
    "    - Data > Q3 + 1.5 * IQR\n",
    "    - Data < Q1 - 1.5 * IQR\n",
    "  \n",
    "<div align=center><img src=\"pictures/iqr.png\"  width=\"70%\"></div>\n",
    "\n",
    "#### Data Visualization\n",
    "| Variable      | Graphic |\n",
    "| ----------- | ----------- |\n",
    "| 1 Qualitative      | Barplot       |\n",
    "| 1 Quantitative   | Histogram or Boxplot        |\n",
    "| 2 Qualitative      | Clustered Barplot       |\n",
    "| 2 Quantitative   | Scatter Plot        |\n",
    "| 1 Quantitative + 1 Qualitative   | Double Boxplot        |\n",
    "\n",
    "##### Maker Reference\n",
    "\n",
    "|Marker\t| Description |\n",
    "| ----------- | ----------- |\n",
    "|'o' |\tCircle\t |\n",
    "|'*' |\tStar\t |\n",
    "|'.' |\tPoint\t |\n",
    "|',' |\tPixel\t |\n",
    "|'x' |\tX\t |\n",
    "|'X' |\tX (filled)\t |\n",
    "|'+' |\tPlus\t |\n",
    "|'P' |\tPlus (filled) |\t\n",
    "|'s' |\tSquare\t |\n",
    "|'D' |\tDiamond\t |\n",
    "|'d' |\tDiamond (thin) |\t\n",
    "|'p' |\tPentagon\t |\n",
    "|'H' |\tHexagon\t |\n",
    "|'h' |\tHexagon\t |\n",
    "|'v' |\tTriangle Down  |\t\n",
    "|'^' |\tTriangle Up\t |\n",
    "|'<' |\tTriangle Left |\t\n",
    "|'>' |\tTriangle Right |\t\n",
    "|'1' |\tTri Down\t |\n",
    "|'2' |\tTri Up\t |\n",
    "|'3' |\tTri Left |\t\n",
    "|'4' |\tTri Right |\t\n",
    "|'\\|' |\tVline\t |\n",
    "|'_' |\tHline |\n",
    "\n",
    "\n",
    "\n",
    "##### Line Reference\n",
    "\n",
    "| Line | Syntax\tDescription |\n",
    "| ----------- | ----------- |\n",
    "| '-' |\tSolid line\t|\n",
    "| ':' |\tDotted line\t|\n",
    "| '--' |\tDashed line |\t\n",
    "| '-.' |\tDashed/dotted line |\n",
    "|'None'|\t'' or ' '|\n",
    "\n",
    "##### Color Reference\n",
    "\n",
    "| Color |  Syntax\tDescription| \n",
    "| ----------- | ----------- |\n",
    "| 'r'| \tRed\t| \n",
    "| 'g'| \tGreen| \t\n",
    "| 'b'| \tBlue\t| \n",
    "| 'c'| \tCyan\t| \n",
    "| 'm'| \tMagenta\t| \n",
    "| 'y'| \tYellow\t| \n",
    "| 'k'| \tBlack\t| \n",
    "| 'w' | \tWhite| "
   ]
  },
  {
   "cell_type": "code",
   "execution_count": null,
   "metadata": {},
   "outputs": [],
   "source": [
    "import matplotlib.pyplot as plt\n",
    "import pandas as pd\n",
    "import numpy as np\n",
    "from IPython.core.interactiveshell import InteractiveShell \n",
    "InteractiveShell.ast_node_interactivity = \"all\""
   ]
  },
  {
   "cell_type": "code",
   "execution_count": null,
   "metadata": {},
   "outputs": [],
   "source": [
    "titanic = pd.read_csv('datasets/TitanicSurvival.csv')\n",
    "# https://vincentarelbundock.github.io/Rdatasets/doc/carData/TitanicSurvival.htmltest = pd.read_csv('datasets/MASchools.csv')\n",
    "\n",
    "test = test.dropna(subset=['salary', 'score8', 'score4'])\n",
    "# https://vincentarelbundock.github.io/Rdatasets/doc/AER/MASchools.html"
   ]
  },
  {
   "cell_type": "code",
   "execution_count": null,
   "metadata": {},
   "outputs": [],
   "source": [
    "# np.mean(titanic['age'])\n",
    "# np.nanmedian(titanic['age'])\n",
    "print('mean = ', titanic['age'].mean())\n",
    "print('median = ', titanic['age'].median())\n",
    "print('min = ', titanic['age'].min())\n",
    "print('max = ', titanic['age'].max())\n",
    "print('var = ', titanic['age'].var())\n",
    "print('sd = ', titanic['age'].std())\n",
    "print('mad = ', (abs(titanic['age'] - titanic['age'].mean())).mean())\n",
    "\n",
    "# find mode\n",
    "titanic['age'].mode() # return a Series even if only one value returned\n",
    "titanic['age'].value_counts().head(1)\n",
    "titanic['sex'].value_counts()\n",
    "\n",
    "# find quartile and outlier\n",
    "quartile = titanic['age'].quantile([0, 0.25, 0.5, 0.75, 1])\n",
    "iqr = quartile[0.75] - quartile[0.25]\n",
    "titanic.loc[titanic['age'] > quartile[0.75] + iqr * 1.5]\n",
    "titanic.loc[titanic['age'] < quartile[0.25] - iqr * 1.5]"
   ]
  },
  {
   "cell_type": "code",
   "execution_count": 257,
   "metadata": {},
   "outputs": [
    {
     "data": {
      "image/png": "[encoded data removed]",
      "text/plain": [
       "<Figure size 640x480 with 1 Axes>"
      ]
     },
     "metadata": {},
     "output_type": "display_data"
    },
    {
     "data": {
      "text/plain": [
       "<Figure size 300x300 with 0 Axes>"
      ]
     },
     "metadata": {},
     "output_type": "display_data"
    }
   ],
   "source": [
    "# bar plot -> 1 qualitative\n",
    "array = titanic['survived'].value_counts()\n",
    "plt.title('Titanic Survied Data')\n",
    "plt.xlabel('Survied')\n",
    "plt.ylabel('Number of Survied')\n",
    "plt.bar(array.index, array.values, width=0.5)\n",
    "plt.figure(figsize=(3,3));\n",
    "# semi-colon to omit the text output"
   ]
  },
  {
   "cell_type": "code",
   "execution_count": null,
   "metadata": {},
   "outputs": [],
   "source": [
    "# box plot -> 1 quantitative\n",
    "# note the nan\n",
    "data = titanic['age'].dropna()\n",
    "fig, ax = plt.subplots()\n",
    "# https://stackoverflow.com/questions/34162443/why-do-many-examples-use-fig-ax-plt-subplots\n",
    "# plt.subplots() is a function that returns a tuple containing a figure and axes objects.\n",
    "\n",
    "# plt.subplots() is equal to plt.subplots(11), plt.subplots(1, 1) and plt.subplots(nrows=1, ncols=1)\n",
    "\n",
    "# fig, [[ax1, ax2], [ax3, ax4]] = plt.subplots(nrows=2, ncols=2)\n",
    "# fig, [ax1, ax2, ax3, ax4] = plt.subplots(nrows=1, ncols=4)\n",
    "\n",
    "# https://stackoverflow.com/questions/52214776/python-matplotlib-differences-between-subplot-and-subplots\n",
    "# plt.subplots()  VS.  plt.subplot()\n",
    "# plt.subplots() - single function to create a figure with several subplots\n",
    "# fig, axes = plt.subplots(nrows=2, ncols=3): create 2*3 array of axes objects\n",
    "# plt.subplot() creates only a single subplot axes at a specified grid position. \n",
    "# This means it will require several lines of code \n",
    "# to achieve the same result as plt.subplots() did in a single line of code above:\n",
    "# fig = plt.figure()\n",
    "# ax = plt.subplot(231)\n",
    "# ax = plt.subplot(232)\n",
    "# ax = plt.subplot(233)\n",
    "# ax = plt.subplot(234)\n",
    "# ax = plt.subplot(235)\n",
    "# ax = plt.subplot(236)\n",
    "\n",
    "# https://blog.csdn.net/htuhxf/article/details/82986440\n",
    "\n",
    "ax.boxplot(data)\n",
    "ax.set_xticklabels(['age']);"
   ]
  },
  {
   "cell_type": "code",
   "execution_count": null,
   "metadata": {},
   "outputs": [],
   "source": [
    "# histogram -> 1 quantitative\n",
    "plt.xlabel('Age')\n",
    "plt.ylabel('Number of people')\n",
    "plt.hist(data);"
   ]
  },
  {
   "cell_type": "code",
   "execution_count": null,
   "metadata": {},
   "outputs": [],
   "source": [
    "# clustered bar plot - 2 qualtative\n",
    "sexarray_f = titanic.loc[titanic['sex'] == 'female', ['survived']].value_counts().sort_index()\n",
    "sexarray_m = titanic.loc[titanic['sex'] == 'male', ['survived']].value_counts().sort_index()\n",
    "plt.bar(array.index, sexarray_f.values, color='r')\n",
    "plt.bar(array.index, sexarray_m.values, bottom=sexarray_f.values, color='b')\n",
    "plt.legend(['Female', 'Male'])\n",
    "plt.ylabel('Number of people')\n",
    "plt.xlabel('Survied');"
   ]
  },
  {
   "cell_type": "code",
   "execution_count": null,
   "metadata": {},
   "outputs": [],
   "source": [
    "# clustered bar plot - 2 qualtative\n",
    "classarray_1 = titanic.loc[titanic['passengerClass'] == '1st', ['survived']].value_counts().sort_index()\n",
    "classarray_2 = titanic.loc[titanic['passengerClass'] == '2nd', ['survived']].value_counts().sort_index()\n",
    "classarray_3 = titanic.loc[titanic['passengerClass'] == '3rd', ['survived']].value_counts().sort_index()\n",
    "width = 0.2\n",
    "x = np.arange(2)\n",
    "plt.bar(x-width, classarray_1, width, color='r')\n",
    "plt.bar(x, classarray_2, width, color='b')\n",
    "plt.bar(x+width, classarray_3, width, color='g')\n",
    "plt.xticks(x, ['Not Survived', 'Survived']) \n",
    "plt.legend([\"1st class\", \"2nd class\", \"3rd class\"], title='Passenger Class');"
   ]
  },
  {
   "cell_type": "code",
   "execution_count": null,
   "metadata": {},
   "outputs": [],
   "source": [
    "# scatter plot -> 2 quantatives\n",
    "plt.scatter(test['score4'], test['score8'], c=test['salary'])\n",
    "plt.colorbar();"
   ]
  },
  {
   "cell_type": "code",
   "execution_count": null,
   "metadata": {},
   "outputs": [],
   "source": [
    "# double box plot -> 1 quantative + 1 qualtative\n",
    "agearray_y = titanic.loc[titanic['survived'] == 'yes', 'age'].dropna()\n",
    "agearray_n = titanic.loc[titanic['survived'] == 'no', 'age'].dropna()\n",
    "fig, ax = plt.subplots()\n",
    "ax.boxplot([agearray_n, agearray_y], tick_labels=['Not Survived', 'Survived'])\n",
    "ax.set_ylabel('Age')\n",
    "ax.set_xlabel('Outcomes')\n",
    "ax.set_title('Titanic Survived Data');"
   ]
  }
 ],
 "metadata": {
  "kernelspec": {
   "display_name": "Python 3",
   "language": "python",
   "name": "python3"
  },
  "language_info": {
   "codemirror_mode": {
    "name": "ipython",
    "version": 3
   },
   "file_extension": ".py",
   "mimetype": "text/x-python",
   "name": "python",
   "nbconvert_exporter": "python",
   "pygments_lexer": "ipython3",
   "version": "3.9.6"
  }
 },
 "nbformat": 4,
 "nbformat_minor": 2
}
